{
 "cells": [
  {
   "cell_type": "markdown",
   "metadata": {},
   "source": [
    "![imagen](./img/ejercicios.png)"
   ]
  },
  {
   "cell_type": "markdown",
   "metadata": {},
   "source": [
    "# INFORMACIÓN DEL PROYECTO"
   ]
  },
  {
   "cell_type": "markdown",
   "metadata": {},
   "source": [
    "### TÍTULO"
   ]
  },
  {
   "cell_type": "code",
   "execution_count": 68,
   "metadata": {},
   "outputs": [],
   "source": [
    "#Escribe el título del proyecto en Markdown\n",
    "titulo = \"Diferencias de Género en el Ajedrez: Exploración de los factores socioculturales, el rendimiento y la participación de hombres y mujeres en el ajedrez\""
   ]
  },
  {
   "cell_type": "markdown",
   "metadata": {},
   "source": [
    "### TEMA"
   ]
  },
  {
   "cell_type": "code",
   "execution_count": 69,
   "metadata": {},
   "outputs": [],
   "source": [
    "# Describe brevemente el tema del proyecto en Markdown\n",
    "tema = \"El propósito de este proyecto es investigar posibles disparidades entre hombres y mujeres en el ámbito del ajedrez. Se busca determinar si variables como el desempeño, el estilo de juego y la ubicación geográfica influyen de manera significativa en cada jugador o jugadora. Los hallazgos obtenidos se utilizarán para aumentar la conciencia sobre las diferencias de género presentes en el mundo del ajedrez\""
   ]
  },
  {
   "cell_type": "markdown",
   "metadata": {},
   "source": [
    "### HIPÓTESIS"
   ]
  },
  {
   "cell_type": "markdown",
   "metadata": {},
   "source": [
    "Define aquí lo que será la hipótesis de tu proyecto.\n",
    "Deberás tener más de una, pero tu proyecto lo harás teniendo una principal hipótesis."
   ]
  },
  {
   "cell_type": "code",
   "execution_count": 70,
   "metadata": {},
   "outputs": [],
   "source": [
    "# Escribe tu hipótesis principal en Markdown\n",
    "hipotesis_1 = \"¿Existe variación geográfica en la participación de hombres y mujeres en el ajedrez? ¿Existen regiones del mundo donde el ajedrez sea más popular entre un género en particular debido a factores socioculturales?\""
   ]
  },
  {
   "cell_type": "code",
   "execution_count": 71,
   "metadata": {},
   "outputs": [],
   "source": [
    "# Escribe más hipótesis si las hubiera en Markdown\n",
    "hipotesis_2 = \"¿Hay una marcada discrepancia en la cantidad de jugadores masculinos y femeninos en el ajedrez? ¿En qué medida?\"\n",
    "hipotesis_3 = \"¿El género influye en el estilo de juego de los ajedrecistas? ¿Los hombres prefieren aperturas y defensas más agresivas, mientras que las mujeres optan por un enfoque más estratégico?\"\n",
    "hipotesis_4 = \"¿Los jugadores masculinos tienden a obtener puntajes más altos en comparación con las jugadoras?\""
   ]
  },
  {
   "cell_type": "markdown",
   "metadata": {},
   "source": [
    "## OBTENCIÓN DE LOS DATOS"
   ]
  },
  {
   "cell_type": "markdown",
   "metadata": {},
   "source": [
    "### DATASETS Y FUENTES ALTERNATIVAS DE DATOS"
   ]
  },
  {
   "cell_type": "markdown",
   "metadata": {},
   "source": [
    "Incluye aquí una vista del dataset o datasets de los que partirás para poder evaluar tu hipótesis. <br>\n",
    "También incluye el origen de estos datos y su fuente."
   ]
  },
  {
   "cell_type": "code",
   "execution_count": 72,
   "metadata": {},
   "outputs": [
    {
     "name": "stdout",
     "output_type": "stream",
     "text": [
      "Error al obtener los datos: 401\n"
     ]
    }
   ],
   "source": [
    "import requests\n",
    "import pandas as pd\n",
    "\n",
    "# Definir la URL y la API key\n",
    "url = 'https://lichess.org/api/account/preferences'\n",
    "\n",
    "\n",
    "# Configurar los parámetros de la consulta\n",
    "parametros = {'api_key': mi_api_key}\n",
    "\n",
    "# Realizar la solicitud GET\n",
    "respuesta = requests.get(url, params=parametros)\n",
    "\n",
    "# Verificar el estado de la respuesta\n",
    "if respuesta.status_code == 200:\n",
    "    # Convertir los datos JSON en un DataFrame\n",
    "    datos = respuesta.json()\n",
    "    df = pd.DataFrame.from_dict(datos, orient='index').transpose()\n",
    "    print(\"DataFrame creado exitosamente.\")\n",
    "else:\n",
    "    print(\"Error al obtener los datos:\", respuesta.status_code)"
   ]
  },
  {
   "cell_type": "code",
   "execution_count": 92,
   "metadata": {},
   "outputs": [
    {
     "name": "stdout",
     "output_type": "stream",
     "text": [
      "Error al obtener los datos: 401\n"
     ]
    }
   ],
   "source": [
    "import requests\n",
    "import pandas as pd\n",
    "\n",
    "# Definir la URL y la API key\n",
    "url = 'https://lichess.org/api/user/ixiu/note'\n",
    "#mi_api_key = \"lip_BqnffZeX9T65UJZvY1pj\" #antiguo\n",
    "mi_api_key = \"lip_5xoGtYDqOpyJNCaNqDIr\" #nuevo\n",
    "\n",
    "# Configurar los parámetros de la consulta\n",
    "parametros = {'api_key': mi_api_key}\n",
    "\n",
    "# Realizar la solicitud GET\n",
    "respuesta = requests.get(url, params=parametros)\n",
    "\n",
    "# Verificar el estado de la respuesta\n",
    "if respuesta.status_code == 200:\n",
    "    # Convertir los datos JSON en un DataFrame\n",
    "    datos = respuesta.json()\n",
    "    df = pd.DataFrame.from_dict(datos, orient='index').transpose()\n",
    "    print(\"DataFrame creado exitosamente.\")\n",
    "else:\n",
    "    print(\"Error al obtener los datos:\", respuesta.status_code)"
   ]
  },
  {
   "cell_type": "code",
   "execution_count": 96,
   "metadata": {},
   "outputs": [
    {
     "name": "stdout",
     "output_type": "stream",
     "text": [
      "Error al hacer la consulta: 404\n"
     ]
    }
   ],
   "source": [
    "import requests\n",
    "\n",
    "# URL base de la API de la FIDE\n",
    "base_url = \"https://app.fide.com/api/v1/users\"\n",
    "\"https://app.fide.com/api/v1/users\"\n",
    "\n",
    "\n",
    "# Realizar la consulta GET\n",
    "response = requests.get(url)\n",
    "\n",
    "# Verificar el estado de la respuesta\n",
    "if response.status_code == 200:\n",
    "    # Extraer los datos del jugador (incluyendo el género si está disponible)\n",
    "    player_data = response.json()\n",
    "    gender = player_data.get(\"gender\")\n",
    "    print(\"Género del jugador:\", gender)\n",
    "else:\n",
    "    print(\"Error al hacer la consulta:\", response.status_code)"
   ]
  },
  {
   "cell_type": "code",
   "execution_count": 86,
   "metadata": {},
   "outputs": [
    {
     "data": {
      "text/html": [
       "<div>\n",
       "<style scoped>\n",
       "    .dataframe tbody tr th:only-of-type {\n",
       "        vertical-align: middle;\n",
       "    }\n",
       "\n",
       "    .dataframe tbody tr th {\n",
       "        vertical-align: top;\n",
       "    }\n",
       "\n",
       "    .dataframe thead th {\n",
       "        text-align: right;\n",
       "    }\n",
       "</style>\n",
       "<table border=\"1\" class=\"dataframe\">\n",
       "  <thead>\n",
       "    <tr style=\"text-align: right;\">\n",
       "      <th></th>\n",
       "      <th>id</th>\n",
       "      <th>username</th>\n",
       "      <th>perfs</th>\n",
       "      <th>createdAt</th>\n",
       "      <th>seenAt</th>\n",
       "      <th>playTime</th>\n",
       "      <th>url</th>\n",
       "      <th>count</th>\n",
       "    </tr>\n",
       "  </thead>\n",
       "  <tbody>\n",
       "    <tr>\n",
       "      <th>0</th>\n",
       "      <td>ixiu</td>\n",
       "      <td>ixiu</td>\n",
       "      <td>{'blitz': {'games': 302, 'rating': 1653, 'rd':...</td>\n",
       "      <td>1633183841383</td>\n",
       "      <td>1712342740113</td>\n",
       "      <td>{'total': 193377, 'tv': 0}</td>\n",
       "      <td>https://lichess.org/@/ixiu</td>\n",
       "      <td>{'all': 1032, 'rated': 1032, 'ai': 0, 'draw': ...</td>\n",
       "    </tr>\n",
       "  </tbody>\n",
       "</table>\n",
       "</div>"
      ],
      "text/plain": [
       "     id username                                              perfs  \\\n",
       "0  ixiu     ixiu  {'blitz': {'games': 302, 'rating': 1653, 'rd':...   \n",
       "\n",
       "       createdAt         seenAt                    playTime  \\\n",
       "0  1633183841383  1712342740113  {'total': 193377, 'tv': 0}   \n",
       "\n",
       "                          url  \\\n",
       "0  https://lichess.org/@/ixiu   \n",
       "\n",
       "                                               count  \n",
       "0  {'all': 1032, 'rated': 1032, 'ai': 0, 'draw': ...  "
      ]
     },
     "execution_count": 86,
     "metadata": {},
     "output_type": "execute_result"
    }
   ],
   "source": [
    "df"
   ]
  },
  {
   "cell_type": "code",
   "execution_count": null,
   "metadata": {},
   "outputs": [],
   "source": [
    "url_top_10 = 'https://lichess.org/api/player' # top 10 jugadores\n",
    "url_rating_id = 'https://lichess.org/api/user/{username}' #informacion de un usuario concreto\n"
   ]
  },
  {
   "cell_type": "code",
   "execution_count": 33,
   "metadata": {},
   "outputs": [],
   "source": [
    "import pandas as pd\n",
    "# guarda en variables los datasets y su fuente\n",
    "#df_1 = pd.DataFrame()\n",
    "#fuente_1 = \"\"\n",
    "# df_2 = pd.DataFrame()\n",
    "# fuente_2 = \"\"\n",
    "# df_3 = pd.DataFrame()\n",
    "# fuente_3 = \"\"\n",
    "# df_4 = pd.DataFrame()\n",
    "# fuente_4 = \"\"\n",
    "# df_5 = pd.DataFrame()\n",
    "# fuente_5 = \"\"\n"
   ]
  },
  {
   "cell_type": "markdown",
   "metadata": {},
   "source": [
    "Muestra mediante un head() los principales datasets con los que vas a trabajar"
   ]
  },
  {
   "cell_type": "code",
   "execution_count": 34,
   "metadata": {},
   "outputs": [],
   "source": [
    "# Primer dataset\n"
   ]
  },
  {
   "cell_type": "code",
   "execution_count": null,
   "metadata": {},
   "outputs": [],
   "source": [
    "# Siguiente dataset...\n",
    "# df_2.head()"
   ]
  },
  {
   "cell_type": "code",
   "execution_count": 1,
   "metadata": {},
   "outputs": [
    {
     "ename": "AttributeError",
     "evalue": "'NoneType' object has no attribute 'text'",
     "output_type": "error",
     "traceback": [
      "\u001b[1;31m---------------------------------------------------------------------------\u001b[0m",
      "\u001b[1;31mAttributeError\u001b[0m                            Traceback (most recent call last)",
      "Cell \u001b[1;32mIn[1], line 16\u001b[0m\n\u001b[0;32m     13\u001b[0m soup \u001b[38;5;241m=\u001b[39m BeautifulSoup(response\u001b[38;5;241m.\u001b[39mtext, \u001b[38;5;124m'\u001b[39m\u001b[38;5;124mhtml.parser\u001b[39m\u001b[38;5;124m'\u001b[39m)\n\u001b[0;32m     15\u001b[0m \u001b[38;5;66;03m# Extraer el nombre del jugador\u001b[39;00m\n\u001b[1;32m---> 16\u001b[0m nombre \u001b[38;5;241m=\u001b[39m \u001b[43msoup\u001b[49m\u001b[38;5;241;43m.\u001b[39;49m\u001b[43mfind\u001b[49m\u001b[43m(\u001b[49m\u001b[38;5;124;43m'\u001b[39;49m\u001b[38;5;124;43mh1\u001b[39;49m\u001b[38;5;124;43m'\u001b[39;49m\u001b[43m,\u001b[49m\u001b[43m \u001b[49m\u001b[43mclass_\u001b[49m\u001b[38;5;241;43m=\u001b[39;49m\u001b[38;5;124;43m'\u001b[39;49m\u001b[38;5;124;43mmain-title\u001b[39;49m\u001b[38;5;124;43m'\u001b[39;49m\u001b[43m)\u001b[49m\u001b[38;5;241;43m.\u001b[39;49m\u001b[43mtext\u001b[49m\u001b[38;5;241m.\u001b[39mstrip()\n\u001b[0;32m     17\u001b[0m \u001b[38;5;28mprint\u001b[39m(\u001b[38;5;124m'\u001b[39m\u001b[38;5;124mNombre del jugador:\u001b[39m\u001b[38;5;124m'\u001b[39m, nombre)\n\u001b[0;32m     19\u001b[0m \u001b[38;5;66;03m# Extraer el país del jugador\u001b[39;00m\n",
      "\u001b[1;31mAttributeError\u001b[0m: 'NoneType' object has no attribute 'text'"
     ]
    }
   ],
   "source": [
    "import requests\n",
    "from bs4 import BeautifulSoup\n",
    "\n",
    "# URL del perfil del jugador en FIDE\n",
    "url = 'https://ratings.fide.com/profile/1503014'\n",
    "\n",
    "# Realizar la solicitud HTTP\n",
    "response = requests.get(url)\n",
    "\n",
    "# Verificar que la solicitud fue exitosa (código de estado 200)\n",
    "if response.status_code == 200:\n",
    "    # Crear un objeto BeautifulSoup\n",
    "    soup = BeautifulSoup(response.text, 'html.parser')\n",
    "\n",
    "    # Extraer el nombre del jugador\n",
    "    nombre = soup.find('h1', class_='main-title').text.strip()\n",
    "    print('Nombre del jugador:', nombre)\n",
    "\n",
    "    # Extraer el país del jugador\n",
    "    pais = soup.find('td', text='Federation').find_next_sibling('td').text.strip()\n",
    "    print('País:', pais)\n",
    "\n",
    "    # Extraer el Elo estándar del jugador\n",
    "    elo_estandar = soup.find('td', text='Standard').find_next_sibling('td').text.strip()\n",
    "    print('Elo estándar:', elo_estandar)\n",
    "\n",
    "    # Extraer el Elo rápido del jugador\n",
    "    elo_rapido = soup.find('td', text='Rapid').find_next_sibling('td').text.strip()\n",
    "    print('Elo rápido:', elo_rapido)\n",
    "\n",
    "    # Extraer el Elo blitz del jugador\n",
    "    elo_blitz = soup.find('td', text='Blitz').find_next_sibling('td').text.strip()\n",
    "    print('Elo blitz:', elo_blitz)\n",
    "\n",
    "else:\n",
    "    print('Error al realizar la solicitud HTTP')\n"
   ]
  },
  {
   "cell_type": "code",
   "execution_count": 2,
   "metadata": {},
   "outputs": [
    {
     "ename": "AttributeError",
     "evalue": "'NoneType' object has no attribute 'text'",
     "output_type": "error",
     "traceback": [
      "\u001b[1;31m---------------------------------------------------------------------------\u001b[0m",
      "\u001b[1;31mAttributeError\u001b[0m                            Traceback (most recent call last)",
      "Cell \u001b[1;32mIn[2], line 16\u001b[0m\n\u001b[0;32m     13\u001b[0m soup \u001b[38;5;241m=\u001b[39m BeautifulSoup(response\u001b[38;5;241m.\u001b[39mtext, \u001b[38;5;124m'\u001b[39m\u001b[38;5;124mhtml.parser\u001b[39m\u001b[38;5;124m'\u001b[39m)\n\u001b[0;32m     15\u001b[0m \u001b[38;5;66;03m# Extraer el nombre del jugador\u001b[39;00m\n\u001b[1;32m---> 16\u001b[0m nombre \u001b[38;5;241m=\u001b[39m \u001b[43msoup\u001b[49m\u001b[38;5;241;43m.\u001b[39;49m\u001b[43mfind\u001b[49m\u001b[43m(\u001b[49m\u001b[38;5;124;43m'\u001b[39;49m\u001b[38;5;124;43mh1\u001b[39;49m\u001b[38;5;124;43m'\u001b[39;49m\u001b[43m,\u001b[49m\u001b[43m \u001b[49m\u001b[43mclass_\u001b[49m\u001b[38;5;241;43m=\u001b[39;49m\u001b[38;5;124;43m'\u001b[39;49m\u001b[38;5;124;43mname\u001b[39;49m\u001b[38;5;124;43m'\u001b[39;49m\u001b[43m)\u001b[49m\u001b[38;5;241;43m.\u001b[39;49m\u001b[43mtext\u001b[49m\u001b[38;5;241m.\u001b[39mstrip()\n\u001b[0;32m     17\u001b[0m \u001b[38;5;28mprint\u001b[39m(\u001b[38;5;124m'\u001b[39m\u001b[38;5;124mNombre del jugador:\u001b[39m\u001b[38;5;124m'\u001b[39m, nombre)\n\u001b[0;32m     19\u001b[0m \u001b[38;5;66;03m# Extraer el país del jugador\u001b[39;00m\n",
      "\u001b[1;31mAttributeError\u001b[0m: 'NoneType' object has no attribute 'text'"
     ]
    }
   ],
   "source": [
    "import requests\n",
    "from bs4 import BeautifulSoup\n",
    "\n",
    "# URL del perfil del jugador en YottaChess\n",
    "url = 'https://www.yottachess.com/player/1503014'\n",
    "\n",
    "# Realizar la solicitud HTTP\n",
    "response = requests.get(url)\n",
    "\n",
    "# Verificar que la solicitud fue exitosa (código de estado 200)\n",
    "if response.status_code == 200:\n",
    "    # Crear un objeto BeautifulSoup\n",
    "    soup = BeautifulSoup(response.text, 'html.parser')\n",
    "\n",
    "    # Extraer el nombre del jugador\n",
    "    nombre = soup.find('h1', class_='name').text.strip()\n",
    "    print('Nombre del jugador:', nombre)\n",
    "\n",
    "    # Extraer el país del jugador\n",
    "    pais = soup.find('div', class_='country').text.strip()\n",
    "    print('País:', pais)\n",
    "\n",
    "    # Extraer la puntuación Elo del jugador\n",
    "    elo = soup.find('div', class_='rating').text.strip()\n",
    "    print('Elo:', elo)\n",
    "\n",
    "    # Extraer el número de partidas jugadas\n",
    "    partidas_jugadas = soup.find('span', class_='summary-total').text.strip()\n",
    "    print('Partidas jugadas:', partidas_jugadas)\n",
    "\n",
    "    # Extraer la tasa de éxito del jugador\n",
    "    exito = soup.find('div', class_='rate').text.strip()\n",
    "    print('Tasa de éxito:', exito)\n",
    "\n",
    "else:\n",
    "    print('Error al realizar la solicitud HTTP')"
   ]
  },
  {
   "cell_type": "code",
   "execution_count": null,
   "metadata": {},
   "outputs": [],
   "source": []
  }
 ],
 "metadata": {
  "kernelspec": {
   "display_name": "Python 3.7.4 64-bit",
   "language": "python",
   "name": "python3"
  },
  "language_info": {
   "codemirror_mode": {
    "name": "ipython",
    "version": 3
   },
   "file_extension": ".py",
   "mimetype": "text/x-python",
   "name": "python",
   "nbconvert_exporter": "python",
   "pygments_lexer": "ipython3",
   "version": "3.11.2"
  },
  "orig_nbformat": 4,
  "vscode": {
   "interpreter": {
    "hash": "90139cb9a825bf3d63f6f6704e828dbd1ff7edbd4d0c6e906a71235d6efc74af"
   }
  }
 },
 "nbformat": 4,
 "nbformat_minor": 2
}
